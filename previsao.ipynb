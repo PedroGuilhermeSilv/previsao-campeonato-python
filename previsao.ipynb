{
 "cells": [
  {
   "cell_type": "code",
   "execution_count": 15,
   "metadata": {},
   "outputs": [],
   "source": [
    "import pandas as pd\n",
    "import requests\n",
    "from io import StringIO\n",
    "\n",
    "requisicao = requests.get(\"https://pt.wikipedia.org/wiki/Campeonato_Brasileiro_de_Futebol_de_2023_-_S%C3%A9rie_A\")\n",
    "\n",
    "tabelas = pd.read_html(StringIO(requisicao.text))\n",
    "\n",
    "tb_classificacao  = tabelas[6]\n",
    "tb_jogos= tabelas[7]\n"
   ]
  },
  {
   "cell_type": "code",
   "execution_count": 23,
   "metadata": {},
   "outputs": [
    {
     "name": "stdout",
     "output_type": "stream",
     "text": [
      "{'AMM': 'América Mineiro', 'ATP': 'Athletico Paranaense', 'ATM': 'Atlético Mineiro', 'BAH': 'Bahia', 'BOT': 'Botafogo', 'COR': 'Corinthians', 'CTB': 'Coritiba', 'CRU': 'Cruzeiro', 'CUI': 'Cuiabá', 'FLA': 'Flamengo', 'FLU': 'Fluminense', 'FOR': 'Fortaleza', 'GOI': 'Goiás', 'GRE': 'Grêmio', 'INT': 'Internacional', 'PAL': 'Palmeiras', 'RBB': 'Red Bull Bragantino', 'SAN': 'Santos', 'SPA': 'São Paulo', 'VAS': 'Vasco da Gama'}\n"
     ]
    }
   ],
   "source": [
    "nome_times = list(tb_jogos[\"Casa \\ Fora\"])\n",
    "apelidos = list(tb_jogos.columns)\n",
    "apelidos.pop(0)\n",
    "\n",
    "de_para_times =  dict(zip(apelidos,nome_times))\n",
    "\n",
    " "
   ]
  },
  {
   "cell_type": "code",
   "execution_count": 32,
   "metadata": {},
   "outputs": [
    {
     "name": "stdout",
     "output_type": "stream",
     "text": [
      "                fora                  casa resultado\n",
      "1    América Mineiro  Athletico Paranaense       3–2\n",
      "2    América Mineiro      Atlético Mineiro       2–2\n",
      "3    América Mineiro                 Bahia       3–1\n",
      "4    América Mineiro              Botafogo       2–0\n",
      "5    América Mineiro           Corinthians       1–1\n",
      "..               ...                   ...       ...\n",
      "394    Vasco da Gama         Internacional       2–1\n",
      "395    Vasco da Gama             Palmeiras       1–0\n",
      "396    Vasco da Gama   Red Bull Bragantino       1–1\n",
      "397    Vasco da Gama                Santos       4–1\n",
      "398    Vasco da Gama             São Paulo       4–2\n",
      "\n",
      "[380 rows x 3 columns]\n"
     ]
    }
   ],
   "source": [
    "tabela_jogos_ajustada = tb_jogos.set_index(\"Casa \\ Fora\")\n",
    "tabela_jogos_ajustada = tabela_jogos_ajustada.unstack().reset_index()\n",
    "tabela_jogos_ajustada = tabela_jogos_ajustada.rename(columns={\"level_0\":\"fora\",\"Casa \\ Fora\":\"casa\", 0:\"resultado\"})\n",
    "\n",
    "\n",
    "def ajustar_nome_apelido(linha):\n",
    "    apelido =linha[\"fora\"]\n",
    "    nome = de_para_times[apelido]\n",
    "    return nome \n",
    "\n",
    "tabela_jogos_ajustada[\"fora\"] = tabela_jogos_ajustada.apply(ajustar_nome_apelido, axis=1)\n",
    "tabela_jogos_ajustada = tabela_jogos_ajustada[tabela_jogos_ajustada[\"fora\"]!=tabela_jogos_ajustada[\"casa\"]]\n",
    "\n",
    "print(tabela_jogos_ajustada)\n",
    "\n",
    "#aula 32min\n"
   ]
  }
 ],
 "metadata": {
  "kernelspec": {
   "display_name": "Python 3",
   "language": "python",
   "name": "python3"
  },
  "language_info": {
   "codemirror_mode": {
    "name": "ipython",
    "version": 3
   },
   "file_extension": ".py",
   "mimetype": "text/x-python",
   "name": "python",
   "nbconvert_exporter": "python",
   "pygments_lexer": "ipython3",
   "version": "3.10.12"
  }
 },
 "nbformat": 4,
 "nbformat_minor": 2
}
